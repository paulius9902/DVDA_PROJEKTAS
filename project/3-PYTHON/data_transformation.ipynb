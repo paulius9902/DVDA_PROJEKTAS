{
 "cells": [
  {
   "cell_type": "code",
   "execution_count": 1,
   "metadata": {},
   "outputs": [],
   "source": [
    "import pandas as pd\n",
    "\n",
    "data_1 = pd.read_csv(\"C:/Users/Paulius/Documents/GitHub/DVDA_PROJEKTAS/project/1-data/1-sample_data.csv\")\n",
    "data_2 = pd.read_csv(\"C:/Users/Paulius/Documents/GitHub/DVDA_PROJEKTAS/project/1-data/2-additional_data.csv\")\n",
    "data_3 = pd.read_csv(\"C:/Users/Paulius/Documents/GitHub/DVDA_PROJEKTAS/project/1-data/3-additional_features.csv\")"
   ]
  },
  {
   "cell_type": "code",
   "execution_count": 2,
   "metadata": {},
   "outputs": [],
   "source": [
    "data = pd.concat([data_1, data_2])"
   ]
  },
  {
   "cell_type": "code",
   "execution_count": 6,
   "metadata": {},
   "outputs": [],
   "source": [
    "#train_data = data.join(data_3, lsuffix=\"_left\")\n",
    "train_data = pd.merge(data, data_3, on='id')\n",
    "train_data.to_csv(\"C:/Users/Paulius/Documents/GitHub/DVDA_PROJEKTAS/project/1-data/train_data.csv\", sep=',', encoding='utf-8', index=False)"
   ]
  }
 ],
 "metadata": {
  "kernelspec": {
   "display_name": "Python 3.11.0 64-bit",
   "language": "python",
   "name": "python3"
  },
  "language_info": {
   "codemirror_mode": {
    "name": "ipython",
    "version": 3
   },
   "file_extension": ".py",
   "mimetype": "text/x-python",
   "name": "python",
   "nbconvert_exporter": "python",
   "pygments_lexer": "ipython3",
   "version": "3.11.0"
  },
  "orig_nbformat": 4,
  "vscode": {
   "interpreter": {
    "hash": "1b6713aa3cb8cf543d50546083276061485f2d39612b9203bfea44a863a97a67"
   }
  }
 },
 "nbformat": 4,
 "nbformat_minor": 2
}
