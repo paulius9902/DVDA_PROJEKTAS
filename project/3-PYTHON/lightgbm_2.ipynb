{
 "cells": [
  {
   "cell_type": "code",
   "execution_count": null,
   "id": "47d46a9d-8d4d-430a-8dbd-cc8288b8f036",
   "metadata": {},
   "outputs": [],
   "source": [
    "#best result:  0.8730396297745561\n",
    "#best parameters:  [0.13902060171594238, 26, 10543, 0.8018499007715856, 0.2104357776007047]\n",
    "\n",
    "#best result:  0.8807704974617095\n",
    "#best parameters:  [0.040379975519599896, 35, 14376, 0.7728573204303828, 0.17804513595302274]\n",
    "\n",
    "#best result:  0.879092110010965\n",
    "#best parameters:  [0.047741362010590316, 23, 10080, 0.8598644148897474, 0.4543541558368278]\n",
    "\n",
    "import numpy as np\n",
    "import pandas as pd\n",
    "import lightgbm as lgb\n",
    "from sklearn.model_selection import train_test_split\n",
    "from sklearn.preprocessing import LabelBinarizer\n",
    "from sklearn import preprocessing\n",
    "from sklearn.metrics import accuracy_score\n",
    "from sklearn import metrics"
   ]
  },
  {
   "cell_type": "code",
   "execution_count": null,
   "id": "38b7bcff-4aad-4a36-8db3-b60de0f790d7",
   "metadata": {},
   "outputs": [],
   "source": [
    "#\n",
    "# Prepare the data\n",
    "#\n",
    "\n",
    "train = pd.read_csv(\"duom/train_data_2.csv\")\n",
    "test_data = pd.read_csv(\"duom/test_data_2.csv\")\n",
    "\n",
    "le1 = preprocessing.LabelEncoder()\n",
    "le2 = preprocessing.LabelEncoder()\n",
    "cols = ['term', 'credit_score', 'loan_purpose', 'home_ownership']\n",
    "for col in cols:\n",
    "    train[col] = le1.fit_transform(train[col])\n",
    "    test_data[col] = le2.fit_transform(test_data[col])\n",
    "    print(le1.classes_)\n",
    "    print(le2.classes_)\n",
    "\n",
    "y = train['y']\n",
    "x = train.drop(['y', 'id'], axis=1)"
   ]
  },
  {
   "cell_type": "code",
   "execution_count": null,
   "id": "72755e6d-84ef-471e-bf19-8895e615e103",
   "metadata": {},
   "outputs": [],
   "source": [
    "#\n",
    "# Create training and validation sets\n",
    "#\n",
    "x_train, x_test, y_train, y_test = train_test_split(x, y, test_size=0.2, random_state=42)\n",
    "\n",
    "#\n",
    "# Create the LightGBM data containers\n",
    "#\n",
    "lgb_train = lgb.Dataset(x_train, label=y_train)\n",
    "lgb_eval = lgb.Dataset(x_test, label=y_test, reference=lgb_train)"
   ]
  },
  {
   "cell_type": "code",
   "execution_count": null,
   "id": "4ace5d54-f797-459a-8473-a41001a91442",
   "metadata": {},
   "outputs": [],
   "source": [
    "\"\"\"params = {\n",
    "    'lambda_l1': 0.0004, \n",
    "    'lambda_l2': 0.004, \n",
    "    'num_leaves': 30000, \n",
    "    'feature_fraction': 0.8, \n",
    "    'bagging_fraction': 0.8, \n",
    "    'bagging_freq': 2, \n",
    "    'min_child_samples': 13,\n",
    "}\n",
    "\n",
    "print('Starting training...')\n",
    "# train\n",
    "gbm = lgb.train(params,\n",
    "                lgb_train,\n",
    "                num_boost_round=20,\n",
    "                valid_sets=lgb_eval,\n",
    "                callbacks=[lgb.early_stopping(stopping_rounds=5)])\n",
    "\n",
    "preds = gbm.predict(x_test)\n",
    "pred_labels = np.rint(preds)\n",
    "accuracy = metrics.accuracy_score(y_test, pred_labels)\n",
    "print(f'The ACU of prediction is: {accuracy}')\"\"\"\n",
    "\n",
    "#0.8431695524810852\n",
    "#0.8424313841647153"
   ]
  },
  {
   "cell_type": "code",
   "execution_count": null,
   "id": "55db9ad8-45e3-4fec-87f8-22cb1f005fd7",
   "metadata": {},
   "outputs": [],
   "source": [
    "\"\"\"ids = test_data['id'].values\n",
    "test_data = test_data.drop(['id'], axis=1)\n",
    "x = test_data.values\n",
    "y = gbm.predict(x)\n",
    "output = pd.DataFrame({'id': ids, 'target': y})\"\"\""
   ]
  },
  {
   "cell_type": "code",
   "execution_count": 8,
   "id": "5f877d58-a94b-4fee-9f6b-b244ac860037",
   "metadata": {},
   "outputs": [
    {
     "name": "stdout",
     "output_type": "stream",
     "text": [
      "[LightGBM] [Info] Number of positive: 1431971, number of negative: 4568269\n",
      "[LightGBM] [Warning] Auto-choosing row-wise multi-threading, the overhead of testing was 0.227628 seconds.\n",
      "You can set `force_row_wise=true` to remove the overhead.\n",
      "And if memory is not enough, you can set `force_col_wise=true`.\n",
      "[LightGBM] [Info] Total Bins 1541\n",
      "[LightGBM] [Info] Number of data points in the train set: 6000240, number of used features: 15\n",
      "[LightGBM] [Info] [binary:BoostFromScore]: pavg=0.238652 -> initscore=-1.160083\n",
      "[LightGBM] [Info] Start training from score -1.160083\n",
      "Training until validation scores don't improve for 50 rounds\n",
      "Early stopping, best iteration is:\n",
      "[265]\tvalid's auc: 0.883943\n",
      "validation AUC: 0.883943337994814\n"
     ]
    }
   ],
   "source": [
    "SEARCH_PARAMS = {'learning_rate': 0.040379975519599896, \n",
    "                'max_depth': 35, \n",
    "                'num_leaves': 14376, \n",
    "                'feature_fraction': 0.965292624452857, \n",
    "                'subsample': 0.17804513595302274}\n",
    "\n",
    "def train_evaluate(search_params):\n",
    "    params = {'objective': 'binary',\n",
    "              'metric': 'auc',\n",
    "              **search_params}\n",
    "\n",
    "    model = lgb.train(params, lgb_train,\n",
    "                      num_boost_round=500,\n",
    "                      #early_stopping_rounds=10,\n",
    "                      callbacks=[lgb.early_stopping(stopping_rounds=50)],\n",
    "                      valid_sets=lgb_eval,\n",
    "                      valid_names='valid'\n",
    "                     )\n",
    "    \n",
    "    score = model.best_score['valid']['auc']\n",
    "    return score, model\n",
    "\n",
    "if __name__ == '__main__':\n",
    "    score, model = train_evaluate(SEARCH_PARAMS)\n",
    "    print('validation AUC:', score)"
   ]
  },
  {
   "cell_type": "code",
   "execution_count": 9,
   "id": "2c96f7c1-9abc-43ee-90d8-7affa01be522",
   "metadata": {},
   "outputs": [],
   "source": [
    "ids = test_data['id'].values\n",
    "test_data = test_data.drop(['id'], axis=1)"
   ]
  },
  {
   "cell_type": "code",
   "execution_count": 10,
   "id": "4f344470-a875-485e-bb42-eadc36e565e6",
   "metadata": {},
   "outputs": [
    {
     "data": {
      "text/html": [
       "<div>\n",
       "<style scoped>\n",
       "    .dataframe tbody tr th:only-of-type {\n",
       "        vertical-align: middle;\n",
       "    }\n",
       "\n",
       "    .dataframe tbody tr th {\n",
       "        vertical-align: top;\n",
       "    }\n",
       "\n",
       "    .dataframe thead th {\n",
       "        text-align: right;\n",
       "    }\n",
       "</style>\n",
       "<table border=\"1\" class=\"dataframe\">\n",
       "  <thead>\n",
       "    <tr style=\"text-align: right;\">\n",
       "      <th></th>\n",
       "      <th>id</th>\n",
       "      <th>target</th>\n",
       "    </tr>\n",
       "  </thead>\n",
       "  <tbody>\n",
       "    <tr>\n",
       "      <th>0</th>\n",
       "      <td>1</td>\n",
       "      <td>0.256321</td>\n",
       "    </tr>\n",
       "    <tr>\n",
       "      <th>1</th>\n",
       "      <td>2</td>\n",
       "      <td>0.441151</td>\n",
       "    </tr>\n",
       "    <tr>\n",
       "      <th>2</th>\n",
       "      <td>3</td>\n",
       "      <td>0.042678</td>\n",
       "    </tr>\n",
       "    <tr>\n",
       "      <th>3</th>\n",
       "      <td>4</td>\n",
       "      <td>0.242448</td>\n",
       "    </tr>\n",
       "    <tr>\n",
       "      <th>4</th>\n",
       "      <td>5</td>\n",
       "      <td>0.260231</td>\n",
       "    </tr>\n",
       "    <tr>\n",
       "      <th>5</th>\n",
       "      <td>6</td>\n",
       "      <td>0.092428</td>\n",
       "    </tr>\n",
       "    <tr>\n",
       "      <th>6</th>\n",
       "      <td>7</td>\n",
       "      <td>0.000010</td>\n",
       "    </tr>\n",
       "    <tr>\n",
       "      <th>7</th>\n",
       "      <td>8</td>\n",
       "      <td>0.240470</td>\n",
       "    </tr>\n",
       "    <tr>\n",
       "      <th>8</th>\n",
       "      <td>9</td>\n",
       "      <td>0.000007</td>\n",
       "    </tr>\n",
       "    <tr>\n",
       "      <th>9</th>\n",
       "      <td>10</td>\n",
       "      <td>0.541795</td>\n",
       "    </tr>\n",
       "    <tr>\n",
       "      <th>10</th>\n",
       "      <td>11</td>\n",
       "      <td>0.000011</td>\n",
       "    </tr>\n",
       "    <tr>\n",
       "      <th>11</th>\n",
       "      <td>12</td>\n",
       "      <td>0.628161</td>\n",
       "    </tr>\n",
       "    <tr>\n",
       "      <th>12</th>\n",
       "      <td>13</td>\n",
       "      <td>0.130861</td>\n",
       "    </tr>\n",
       "    <tr>\n",
       "      <th>13</th>\n",
       "      <td>14</td>\n",
       "      <td>0.484335</td>\n",
       "    </tr>\n",
       "    <tr>\n",
       "      <th>14</th>\n",
       "      <td>15</td>\n",
       "      <td>0.129493</td>\n",
       "    </tr>\n",
       "  </tbody>\n",
       "</table>\n",
       "</div>"
      ],
      "text/plain": [
       "    id    target\n",
       "0    1  0.256321\n",
       "1    2  0.441151\n",
       "2    3  0.042678\n",
       "3    4  0.242448\n",
       "4    5  0.260231\n",
       "5    6  0.092428\n",
       "6    7  0.000010\n",
       "7    8  0.240470\n",
       "8    9  0.000007\n",
       "9   10  0.541795\n",
       "10  11  0.000011\n",
       "11  12  0.628161\n",
       "12  13  0.130861\n",
       "13  14  0.484335\n",
       "14  15  0.129493"
      ]
     },
     "execution_count": 10,
     "metadata": {},
     "output_type": "execute_result"
    }
   ],
   "source": [
    "x = test_data.values\n",
    "y = model.predict(x)\n",
    "output = pd.DataFrame({'id': ids, 'target': y})\n",
    "output.head(15)"
   ]
  },
  {
   "cell_type": "code",
   "execution_count": 11,
   "id": "9e7e2286-8b6c-453f-8114-135ced7a488f",
   "metadata": {},
   "outputs": [],
   "source": [
    "output.to_csv(\"submission_2_GBM.csv\", index=False)"
   ]
  },
  {
   "cell_type": "code",
   "execution_count": 12,
   "id": "b9ea31a3-db07-4dd6-810c-22f8550deade",
   "metadata": {},
   "outputs": [
    {
     "data": {
      "text/plain": [
       "<lightgbm.basic.Booster at 0x7f02e7619f10>"
      ]
     },
     "execution_count": 12,
     "metadata": {},
     "output_type": "execute_result"
    }
   ],
   "source": [
    "model.save_model('model_2.txt')"
   ]
  },
  {
   "cell_type": "code",
   "execution_count": null,
   "id": "6c9605c9-c28b-494b-b4f5-b6cc426fdfbe",
   "metadata": {},
   "outputs": [],
   "source": [
    "\"\"\"import skopt\n",
    "\n",
    "SPACE = [\n",
    "    skopt.space.Real(0.01, 0.4, name='learning_rate', prior='log-uniform'),\n",
    "    skopt.space.Integer(1, 40, name='max_depth'),\n",
    "    skopt.space.Integer(8000, 18000, name='num_leaves'),\n",
    "    skopt.space.Real(0.5, 1.0, name='feature_fraction', prior='uniform'),\n",
    "    skopt.space.Real(0.1, 0.6, name='subsample', prior='uniform')]\n",
    "@skopt.utils.use_named_args(SPACE)\n",
    "def objective(**params):\n",
    "    return -1.0 * train_evaluate(params)\n",
    "results = skopt.forest_minimize(objective, SPACE, n_calls=20, n_random_starts=10)\n",
    "best_auc = -1.0 * results.fun\n",
    "best_params = results.x\n",
    "\n",
    "print('best result: ', best_auc)\n",
    "print('best parameters: ', best_params)\"\"\""
   ]
  },
  {
   "cell_type": "code",
   "execution_count": null,
   "id": "e78c23b7-2994-4c3e-9930-0af75298bc37",
   "metadata": {},
   "outputs": [],
   "source": []
  }
 ],
 "metadata": {
  "environment": {
   "kernel": "python3",
   "name": "common-cpu.m100",
   "type": "gcloud",
   "uri": "gcr.io/deeplearning-platform-release/base-cpu:m100"
  },
  "kernelspec": {
   "display_name": "Python 3",
   "language": "python",
   "name": "python3"
  },
  "language_info": {
   "codemirror_mode": {
    "name": "ipython",
    "version": 3
   },
   "file_extension": ".py",
   "mimetype": "text/x-python",
   "name": "python",
   "nbconvert_exporter": "python",
   "pygments_lexer": "ipython3",
   "version": "3.7.12"
  }
 },
 "nbformat": 4,
 "nbformat_minor": 5
}
