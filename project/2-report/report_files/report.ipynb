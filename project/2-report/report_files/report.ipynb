{
 "cells": [
  {
   "cell_type": "markdown",
   "metadata": {},
   "source": [
    "Importuojamos reikalingos bibliotekos"
   ]
  },
  {
   "cell_type": "code",
   "execution_count": 352,
   "metadata": {},
   "outputs": [],
   "source": [
    "import pandas as pd\n",
    "import numpy as np\n",
    "import matplotlib.pyplot as plt\n",
    "import seaborn as sns\n",
    "# Using Skicit-learn to split data into training and testing sets\n",
    "from sklearn.model_selection import train_test_split\n",
    "from sklearn.ensemble import RandomForestRegressor\n",
    "from sklearn.ensemble import RandomForestClassifier\n",
    "from sklearn.impute import KNNImputer\n",
    "from sklearn.preprocessing import MinMaxScaler\n",
    "from sklearn.preprocessing import OrdinalEncoder\n",
    "#Import scikit-learn metrics module for accuracy calculation\n",
    "from sklearn import metrics\n",
    "#from fancyimpute import KNN, NuclearNormMinimization, SoftImpute, BiScaler\n",
    "from sklearn.ensemble import IsolationForest\n",
    "from sklearn import preprocessing\n",
    "import calendar\n",
    "import time\n",
    "from sklearn.linear_model import LinearRegression"
   ]
  },
  {
   "cell_type": "markdown",
   "metadata": {},
   "source": [
    "Nuskaitomi duomenys"
   ]
  },
  {
   "cell_type": "code",
   "execution_count": 353,
   "metadata": {},
   "outputs": [],
   "source": [
    "train_data = pd.read_csv(\"C:/Users/Paulius/Documents/GitHub/DVDA_PROJEKTAS/project/1-data/train_data.csv\")\n",
    "test_data = pd.read_csv(\"C:/Users/Paulius/Documents/GitHub/DVDA_PROJEKTAS/project/1-data/test_data.csv\")"
   ]
  },
  {
   "cell_type": "markdown",
   "metadata": {},
   "source": [
    "Peržiūrima nuskaitytų duomenų informacija"
   ]
  },
  {
   "cell_type": "code",
   "execution_count": 354,
   "metadata": {},
   "outputs": [
    {
     "name": "stdout",
     "output_type": "stream",
     "text": [
      "<class 'pandas.core.frame.DataFrame'>\n",
      "RangeIndex: 1000000 entries, 0 to 999999\n",
      "Data columns (total 17 columns):\n",
      " #   Column                        Non-Null Count    Dtype  \n",
      "---  ------                        --------------    -----  \n",
      " 0   id                            1000000 non-null  int64  \n",
      " 1   y                             1000000 non-null  int64  \n",
      " 2   amount_current_loan           1000000 non-null  int64  \n",
      " 3   term                          1000000 non-null  object \n",
      " 4   credit_score                  685667 non-null   object \n",
      " 5   loan_purpose                  1000000 non-null  object \n",
      " 6   yearly_income                 780561 non-null   float64\n",
      " 7   home_ownership                1000000 non-null  object \n",
      " 8   bankruptcies                  998195 non-null   float64\n",
      " 9   years_current_job             954051 non-null   float64\n",
      " 10  monthly_debt                  1000000 non-null  float64\n",
      " 11  years_credit_history          1000000 non-null  int64  \n",
      " 12  months_since_last_delinquent  470461 non-null   float64\n",
      " 13  open_accounts                 1000000 non-null  int64  \n",
      " 14  credit_problems               1000000 non-null  int64  \n",
      " 15  credit_balance                1000000 non-null  int64  \n",
      " 16  max_open_credit               999973 non-null   float64\n",
      "dtypes: float64(6), int64(7), object(4)\n",
      "memory usage: 129.7+ MB\n"
     ]
    }
   ],
   "source": [
    "train_data.info()"
   ]
  },
  {
   "cell_type": "markdown",
   "metadata": {},
   "source": [
    "Identifikuojami kategoriniai kintamieji bei skirtingos jų reikšmės. Taip pat patikrinama, ar kategorinio kintamojo reikšmė egzistuoja ir treniravimo, ir testavimo duomenų rinkiniuose"
   ]
  },
  {
   "cell_type": "code",
   "execution_count": 355,
   "metadata": {},
   "outputs": [
    {
     "name": "stdout",
     "output_type": "stream",
     "text": [
      "Column: term\n",
      "['short' 'long']\n",
      "Amount of categories: 2\n",
      "set()\n",
      "set()\n",
      "\n",
      "Column: credit_score\n",
      "['very_good' 'good' nan 'fair']\n",
      "Amount of categories: 4\n",
      "set()\n",
      "set()\n",
      "\n",
      "Column: loan_purpose\n",
      "['other' 'debt_consolidation' 'home_improvements' 'take_a_trip'\n",
      " 'medical_bills' 'educational_expenses' 'major_purchase' 'small_business'\n",
      " 'business_loan' 'buy_a_car' 'moving' 'buy_house' 'vacation' 'wedding'\n",
      " 'renewable_energy']\n",
      "Amount of categories: 15\n",
      "{'renewable_energy'}\n",
      "set()\n",
      "\n",
      "Column: home_ownership\n",
      "['rent' 'mortgage' 'own']\n",
      "Amount of categories: 3\n",
      "set()\n",
      "set()\n",
      "\n"
     ]
    }
   ],
   "source": [
    "for column in train_data:\n",
    "    if train_data[column].dtype == \"object\":\n",
    "        print(\"Column: \"+ column)\n",
    "        print(train_data[column].unique())\n",
    "        print(\"Amount of categories: \" + str(len(train_data[column].unique())))\n",
    "        print(set(train_data[column].unique()).difference(set(test_data[column].unique())))\n",
    "        print(set(test_data[column].unique()).difference(set(train_data[column].unique())))\n",
    "        print(\"\")"
   ]
  },
  {
   "cell_type": "markdown",
   "metadata": {},
   "source": [
    "Galima pastebėti, kad testavimo duomenų rinkio stulpelyje loan_purpose nėra reikšmės renewable_energy, todėl visas eilutes su šia reikšme galima ištrinti iš treniravimo duomenų rinkinio"
   ]
  },
  {
   "cell_type": "code",
   "execution_count": 356,
   "metadata": {},
   "outputs": [],
   "source": [
    "train_data = train_data[train_data['loan_purpose']!=\"renewable_energy\"]"
   ]
  },
  {
   "cell_type": "markdown",
   "metadata": {},
   "source": [
    "Pateikiama tolydinio tipo atributų kokybės analizė"
   ]
  },
  {
   "cell_type": "code",
   "execution_count": 357,
   "metadata": {},
   "outputs": [
    {
     "data": {
      "text/html": [
       "<div>\n",
       "<style scoped>\n",
       "    .dataframe tbody tr th:only-of-type {\n",
       "        vertical-align: middle;\n",
       "    }\n",
       "\n",
       "    .dataframe tbody tr th {\n",
       "        vertical-align: top;\n",
       "    }\n",
       "\n",
       "    .dataframe thead th {\n",
       "        text-align: right;\n",
       "    }\n",
       "</style>\n",
       "<table border=\"1\" class=\"dataframe\">\n",
       "  <thead>\n",
       "    <tr style=\"text-align: right;\">\n",
       "      <th></th>\n",
       "      <th>id</th>\n",
       "      <th>y</th>\n",
       "      <th>amount_current_loan</th>\n",
       "      <th>yearly_income</th>\n",
       "      <th>bankruptcies</th>\n",
       "      <th>years_current_job</th>\n",
       "      <th>monthly_debt</th>\n",
       "      <th>years_credit_history</th>\n",
       "      <th>months_since_last_delinquent</th>\n",
       "      <th>open_accounts</th>\n",
       "      <th>credit_problems</th>\n",
       "      <th>credit_balance</th>\n",
       "      <th>max_open_credit</th>\n",
       "    </tr>\n",
       "  </thead>\n",
       "  <tbody>\n",
       "    <tr>\n",
       "      <th>count</th>\n",
       "      <td>999891.000000</td>\n",
       "      <td>999891.000000</td>\n",
       "      <td>999891.000000</td>\n",
       "      <td>7.804840e+05</td>\n",
       "      <td>998087.000000</td>\n",
       "      <td>953947.000000</td>\n",
       "      <td>999891.000000</td>\n",
       "      <td>999891.000000</td>\n",
       "      <td>470399.000000</td>\n",
       "      <td>999891.000000</td>\n",
       "      <td>999891.000000</td>\n",
       "      <td>9.998910e+05</td>\n",
       "      <td>9.998640e+05</td>\n",
       "    </tr>\n",
       "    <tr>\n",
       "      <th>mean</th>\n",
       "      <td>499992.410771</td>\n",
       "      <td>0.499987</td>\n",
       "      <td>316671.330151</td>\n",
       "      <td>1.344777e+06</td>\n",
       "      <td>0.119207</td>\n",
       "      <td>5.875944</td>\n",
       "      <td>18549.466006</td>\n",
       "      <td>18.095021</td>\n",
       "      <td>34.946356</td>\n",
       "      <td>11.184453</td>\n",
       "      <td>0.176171</td>\n",
       "      <td>2.938495e+05</td>\n",
       "      <td>7.367368e+05</td>\n",
       "    </tr>\n",
       "    <tr>\n",
       "      <th>std</th>\n",
       "      <td>288673.862734</td>\n",
       "      <td>0.500000</td>\n",
       "      <td>186860.678385</td>\n",
       "      <td>1.278992e+06</td>\n",
       "      <td>0.354673</td>\n",
       "      <td>3.625401</td>\n",
       "      <td>12090.579058</td>\n",
       "      <td>7.069086</td>\n",
       "      <td>22.097677</td>\n",
       "      <td>5.068003</td>\n",
       "      <td>0.495867</td>\n",
       "      <td>3.666039e+05</td>\n",
       "      <td>7.147263e+06</td>\n",
       "    </tr>\n",
       "    <tr>\n",
       "      <th>min</th>\n",
       "      <td>1.000000</td>\n",
       "      <td>0.000000</td>\n",
       "      <td>10802.000000</td>\n",
       "      <td>7.662700e+04</td>\n",
       "      <td>0.000000</td>\n",
       "      <td>0.000000</td>\n",
       "      <td>0.000000</td>\n",
       "      <td>4.000000</td>\n",
       "      <td>0.000000</td>\n",
       "      <td>0.000000</td>\n",
       "      <td>0.000000</td>\n",
       "      <td>0.000000e+00</td>\n",
       "      <td>0.000000e+00</td>\n",
       "    </tr>\n",
       "    <tr>\n",
       "      <th>25%</th>\n",
       "      <td>249998.500000</td>\n",
       "      <td>0.000000</td>\n",
       "      <td>174394.000000</td>\n",
       "      <td>8.257400e+05</td>\n",
       "      <td>0.000000</td>\n",
       "      <td>3.000000</td>\n",
       "      <td>10323.080000</td>\n",
       "      <td>13.000000</td>\n",
       "      <td>16.000000</td>\n",
       "      <td>8.000000</td>\n",
       "      <td>0.000000</td>\n",
       "      <td>1.133920e+05</td>\n",
       "      <td>2.700005e+05</td>\n",
       "    </tr>\n",
       "    <tr>\n",
       "      <th>50%</th>\n",
       "      <td>499988.000000</td>\n",
       "      <td>0.000000</td>\n",
       "      <td>269676.000000</td>\n",
       "      <td>1.148550e+06</td>\n",
       "      <td>0.000000</td>\n",
       "      <td>6.000000</td>\n",
       "      <td>16318.150000</td>\n",
       "      <td>17.000000</td>\n",
       "      <td>32.000000</td>\n",
       "      <td>10.000000</td>\n",
       "      <td>0.000000</td>\n",
       "      <td>2.105770e+05</td>\n",
       "      <td>4.599980e+05</td>\n",
       "    </tr>\n",
       "    <tr>\n",
       "      <th>75%</th>\n",
       "      <td>749985.500000</td>\n",
       "      <td>1.000000</td>\n",
       "      <td>435160.000000</td>\n",
       "      <td>1.605728e+06</td>\n",
       "      <td>0.000000</td>\n",
       "      <td>10.000000</td>\n",
       "      <td>24059.320000</td>\n",
       "      <td>22.000000</td>\n",
       "      <td>51.000000</td>\n",
       "      <td>14.000000</td>\n",
       "      <td>0.000000</td>\n",
       "      <td>3.674410e+05</td>\n",
       "      <td>7.673600e+05</td>\n",
       "    </tr>\n",
       "    <tr>\n",
       "      <th>max</th>\n",
       "      <td>1000000.000000</td>\n",
       "      <td>1.000000</td>\n",
       "      <td>789250.000000</td>\n",
       "      <td>1.655574e+08</td>\n",
       "      <td>7.000000</td>\n",
       "      <td>10.000000</td>\n",
       "      <td>435843.280000</td>\n",
       "      <td>70.000000</td>\n",
       "      <td>176.000000</td>\n",
       "      <td>76.000000</td>\n",
       "      <td>15.000000</td>\n",
       "      <td>3.287897e+07</td>\n",
       "      <td>1.539738e+09</td>\n",
       "    </tr>\n",
       "  </tbody>\n",
       "</table>\n",
       "</div>"
      ],
      "text/plain": [
       "                   id              y  amount_current_loan  yearly_income  \\\n",
       "count   999891.000000  999891.000000        999891.000000   7.804840e+05   \n",
       "mean    499992.410771       0.499987        316671.330151   1.344777e+06   \n",
       "std     288673.862734       0.500000        186860.678385   1.278992e+06   \n",
       "min          1.000000       0.000000         10802.000000   7.662700e+04   \n",
       "25%     249998.500000       0.000000        174394.000000   8.257400e+05   \n",
       "50%     499988.000000       0.000000        269676.000000   1.148550e+06   \n",
       "75%     749985.500000       1.000000        435160.000000   1.605728e+06   \n",
       "max    1000000.000000       1.000000        789250.000000   1.655574e+08   \n",
       "\n",
       "        bankruptcies  years_current_job   monthly_debt  years_credit_history  \\\n",
       "count  998087.000000      953947.000000  999891.000000         999891.000000   \n",
       "mean        0.119207           5.875944   18549.466006             18.095021   \n",
       "std         0.354673           3.625401   12090.579058              7.069086   \n",
       "min         0.000000           0.000000       0.000000              4.000000   \n",
       "25%         0.000000           3.000000   10323.080000             13.000000   \n",
       "50%         0.000000           6.000000   16318.150000             17.000000   \n",
       "75%         0.000000          10.000000   24059.320000             22.000000   \n",
       "max         7.000000          10.000000  435843.280000             70.000000   \n",
       "\n",
       "       months_since_last_delinquent  open_accounts  credit_problems  \\\n",
       "count                 470399.000000  999891.000000    999891.000000   \n",
       "mean                      34.946356      11.184453         0.176171   \n",
       "std                       22.097677       5.068003         0.495867   \n",
       "min                        0.000000       0.000000         0.000000   \n",
       "25%                       16.000000       8.000000         0.000000   \n",
       "50%                       32.000000      10.000000         0.000000   \n",
       "75%                       51.000000      14.000000         0.000000   \n",
       "max                      176.000000      76.000000        15.000000   \n",
       "\n",
       "       credit_balance  max_open_credit  \n",
       "count    9.998910e+05     9.998640e+05  \n",
       "mean     2.938495e+05     7.367368e+05  \n",
       "std      3.666039e+05     7.147263e+06  \n",
       "min      0.000000e+00     0.000000e+00  \n",
       "25%      1.133920e+05     2.700005e+05  \n",
       "50%      2.105770e+05     4.599980e+05  \n",
       "75%      3.674410e+05     7.673600e+05  \n",
       "max      3.287897e+07     1.539738e+09  "
      ]
     },
     "execution_count": 357,
     "metadata": {},
     "output_type": "execute_result"
    }
   ],
   "source": [
    "train_data.describe()"
   ]
  },
  {
   "cell_type": "markdown",
   "metadata": {},
   "source": [
    "Randamos trūkstamos reikšmės kiekviename stulpelyje"
   ]
  },
  {
   "cell_type": "code",
   "execution_count": 358,
   "metadata": {},
   "outputs": [
    {
     "data": {
      "text/plain": [
       "id                                   0\n",
       "y                                    0\n",
       "amount_current_loan                  0\n",
       "term                                 0\n",
       "credit_score                    314299\n",
       "loan_purpose                         0\n",
       "yearly_income                   219407\n",
       "home_ownership                       0\n",
       "bankruptcies                      1804\n",
       "years_current_job                45944\n",
       "monthly_debt                         0\n",
       "years_credit_history                 0\n",
       "months_since_last_delinquent    529492\n",
       "open_accounts                        0\n",
       "credit_problems                      0\n",
       "credit_balance                       0\n",
       "max_open_credit                     27\n",
       "dtype: int64"
      ]
     },
     "execution_count": 358,
     "metadata": {},
     "output_type": "execute_result"
    }
   ],
   "source": [
    "train_data.isnull().sum()"
   ]
  },
  {
   "cell_type": "code",
   "execution_count": 359,
   "metadata": {},
   "outputs": [],
   "source": [
    "train_data.drop(train_data[(train_data['credit_score'].isnull()) & (train_data['months_since_last_delinquent'].isnull()) & (train_data['yearly_income'].isnull())].index, inplace=True)"
   ]
  },
  {
   "cell_type": "code",
   "execution_count": 360,
   "metadata": {},
   "outputs": [
    {
     "data": {
      "text/plain": [
       "id                                   0\n",
       "y                                    0\n",
       "amount_current_loan                  0\n",
       "term                                 0\n",
       "credit_score                    194241\n",
       "loan_purpose                         0\n",
       "yearly_income                    99349\n",
       "home_ownership                       0\n",
       "bankruptcies                      1800\n",
       "years_current_job                40362\n",
       "monthly_debt                         0\n",
       "years_credit_history                 0\n",
       "months_since_last_delinquent    409434\n",
       "open_accounts                        0\n",
       "credit_problems                      0\n",
       "credit_balance                       0\n",
       "max_open_credit                     25\n",
       "dtype: int64"
      ]
     },
     "execution_count": 360,
     "metadata": {},
     "output_type": "execute_result"
    }
   ],
   "source": [
    "train_data.isnull().sum()"
   ]
  },
  {
   "cell_type": "code",
   "execution_count": 361,
   "metadata": {},
   "outputs": [],
   "source": [
    "train_data = train_data[train_data['max_open_credit'].notnull()]\n",
    "train_data = train_data[train_data['bankruptcies'].notnull()]\n",
    "train_data = train_data[train_data['years_current_job'].notnull()]\n",
    "\n",
    "train_data['credit_score'] = train_data['credit_score'].fillna('unknown')"
   ]
  },
  {
   "cell_type": "code",
   "execution_count": 362,
   "metadata": {},
   "outputs": [
    {
     "data": {
      "text/html": [
       "<div>\n",
       "<style scoped>\n",
       "    .dataframe tbody tr th:only-of-type {\n",
       "        vertical-align: middle;\n",
       "    }\n",
       "\n",
       "    .dataframe tbody tr th {\n",
       "        vertical-align: top;\n",
       "    }\n",
       "\n",
       "    .dataframe thead th {\n",
       "        text-align: right;\n",
       "    }\n",
       "</style>\n",
       "<table border=\"1\" class=\"dataframe\">\n",
       "  <thead>\n",
       "    <tr style=\"text-align: right;\">\n",
       "      <th></th>\n",
       "      <th>id</th>\n",
       "      <th>y</th>\n",
       "      <th>amount_current_loan</th>\n",
       "      <th>yearly_income</th>\n",
       "      <th>bankruptcies</th>\n",
       "      <th>years_current_job</th>\n",
       "      <th>monthly_debt</th>\n",
       "      <th>years_credit_history</th>\n",
       "      <th>months_since_last_delinquent</th>\n",
       "      <th>open_accounts</th>\n",
       "      <th>credit_problems</th>\n",
       "      <th>credit_balance</th>\n",
       "      <th>max_open_credit</th>\n",
       "    </tr>\n",
       "  </thead>\n",
       "  <tbody>\n",
       "    <tr>\n",
       "      <th>count</th>\n",
       "      <td>837713.000000</td>\n",
       "      <td>837713.000000</td>\n",
       "      <td>837713.000000</td>\n",
       "      <td>7.436140e+05</td>\n",
       "      <td>837713.000000</td>\n",
       "      <td>837713.000000</td>\n",
       "      <td>837713.000000</td>\n",
       "      <td>837713.000000</td>\n",
       "      <td>447079.000000</td>\n",
       "      <td>837713.000000</td>\n",
       "      <td>837713.000000</td>\n",
       "      <td>8.377130e+05</td>\n",
       "      <td>8.377130e+05</td>\n",
       "    </tr>\n",
       "    <tr>\n",
       "      <th>mean</th>\n",
       "      <td>497591.559184</td>\n",
       "      <td>0.495036</td>\n",
       "      <td>321103.597323</td>\n",
       "      <td>1.367086e+06</td>\n",
       "      <td>0.115184</td>\n",
       "      <td>5.908472</td>\n",
       "      <td>18895.988768</td>\n",
       "      <td>17.976106</td>\n",
       "      <td>34.936371</td>\n",
       "      <td>11.281723</td>\n",
       "      <td>0.174346</td>\n",
       "      <td>2.934773e+05</td>\n",
       "      <td>7.265559e+05</td>\n",
       "    </tr>\n",
       "    <tr>\n",
       "      <th>std</th>\n",
       "      <td>288704.305195</td>\n",
       "      <td>0.499976</td>\n",
       "      <td>187659.307664</td>\n",
       "      <td>1.301110e+06</td>\n",
       "      <td>0.350264</td>\n",
       "      <td>3.626195</td>\n",
       "      <td>12172.305339</td>\n",
       "      <td>6.824084</td>\n",
       "      <td>22.046206</td>\n",
       "      <td>5.099867</td>\n",
       "      <td>0.497226</td>\n",
       "      <td>3.683635e+05</td>\n",
       "      <td>6.438295e+06</td>\n",
       "    </tr>\n",
       "    <tr>\n",
       "      <th>min</th>\n",
       "      <td>1.000000</td>\n",
       "      <td>0.000000</td>\n",
       "      <td>10802.000000</td>\n",
       "      <td>7.662700e+04</td>\n",
       "      <td>0.000000</td>\n",
       "      <td>0.000000</td>\n",
       "      <td>0.000000</td>\n",
       "      <td>4.000000</td>\n",
       "      <td>0.000000</td>\n",
       "      <td>0.000000</td>\n",
       "      <td>0.000000</td>\n",
       "      <td>0.000000e+00</td>\n",
       "      <td>0.000000e+00</td>\n",
       "    </tr>\n",
       "    <tr>\n",
       "      <th>25%</th>\n",
       "      <td>247477.000000</td>\n",
       "      <td>0.000000</td>\n",
       "      <td>176616.000000</td>\n",
       "      <td>8.441510e+05</td>\n",
       "      <td>0.000000</td>\n",
       "      <td>3.000000</td>\n",
       "      <td>10665.270000</td>\n",
       "      <td>13.000000</td>\n",
       "      <td>16.000000</td>\n",
       "      <td>8.000000</td>\n",
       "      <td>0.000000</td>\n",
       "      <td>1.130500e+05</td>\n",
       "      <td>2.686200e+05</td>\n",
       "    </tr>\n",
       "    <tr>\n",
       "      <th>50%</th>\n",
       "      <td>495107.000000</td>\n",
       "      <td>0.000000</td>\n",
       "      <td>277706.000000</td>\n",
       "      <td>1.161204e+06</td>\n",
       "      <td>0.000000</td>\n",
       "      <td>6.000000</td>\n",
       "      <td>16654.450000</td>\n",
       "      <td>17.000000</td>\n",
       "      <td>32.000000</td>\n",
       "      <td>10.000000</td>\n",
       "      <td>0.000000</td>\n",
       "      <td>2.100450e+05</td>\n",
       "      <td>4.574020e+05</td>\n",
       "    </tr>\n",
       "    <tr>\n",
       "      <th>75%</th>\n",
       "      <td>747624.000000</td>\n",
       "      <td>1.000000</td>\n",
       "      <td>437888.000000</td>\n",
       "      <td>1.628509e+06</td>\n",
       "      <td>0.000000</td>\n",
       "      <td>10.000000</td>\n",
       "      <td>24393.530000</td>\n",
       "      <td>22.000000</td>\n",
       "      <td>51.000000</td>\n",
       "      <td>14.000000</td>\n",
       "      <td>0.000000</td>\n",
       "      <td>3.659020e+05</td>\n",
       "      <td>7.633780e+05</td>\n",
       "    </tr>\n",
       "    <tr>\n",
       "      <th>max</th>\n",
       "      <td>1000000.000000</td>\n",
       "      <td>1.000000</td>\n",
       "      <td>789250.000000</td>\n",
       "      <td>1.655574e+08</td>\n",
       "      <td>7.000000</td>\n",
       "      <td>10.000000</td>\n",
       "      <td>435843.280000</td>\n",
       "      <td>70.000000</td>\n",
       "      <td>176.000000</td>\n",
       "      <td>76.000000</td>\n",
       "      <td>15.000000</td>\n",
       "      <td>3.287897e+07</td>\n",
       "      <td>1.539738e+09</td>\n",
       "    </tr>\n",
       "  </tbody>\n",
       "</table>\n",
       "</div>"
      ],
      "text/plain": [
       "                   id              y  amount_current_loan  yearly_income  \\\n",
       "count   837713.000000  837713.000000        837713.000000   7.436140e+05   \n",
       "mean    497591.559184       0.495036        321103.597323   1.367086e+06   \n",
       "std     288704.305195       0.499976        187659.307664   1.301110e+06   \n",
       "min          1.000000       0.000000         10802.000000   7.662700e+04   \n",
       "25%     247477.000000       0.000000        176616.000000   8.441510e+05   \n",
       "50%     495107.000000       0.000000        277706.000000   1.161204e+06   \n",
       "75%     747624.000000       1.000000        437888.000000   1.628509e+06   \n",
       "max    1000000.000000       1.000000        789250.000000   1.655574e+08   \n",
       "\n",
       "        bankruptcies  years_current_job   monthly_debt  years_credit_history  \\\n",
       "count  837713.000000      837713.000000  837713.000000         837713.000000   \n",
       "mean        0.115184           5.908472   18895.988768             17.976106   \n",
       "std         0.350264           3.626195   12172.305339              6.824084   \n",
       "min         0.000000           0.000000       0.000000              4.000000   \n",
       "25%         0.000000           3.000000   10665.270000             13.000000   \n",
       "50%         0.000000           6.000000   16654.450000             17.000000   \n",
       "75%         0.000000          10.000000   24393.530000             22.000000   \n",
       "max         7.000000          10.000000  435843.280000             70.000000   \n",
       "\n",
       "       months_since_last_delinquent  open_accounts  credit_problems  \\\n",
       "count                 447079.000000  837713.000000    837713.000000   \n",
       "mean                      34.936371      11.281723         0.174346   \n",
       "std                       22.046206       5.099867         0.497226   \n",
       "min                        0.000000       0.000000         0.000000   \n",
       "25%                       16.000000       8.000000         0.000000   \n",
       "50%                       32.000000      10.000000         0.000000   \n",
       "75%                       51.000000      14.000000         0.000000   \n",
       "max                      176.000000      76.000000        15.000000   \n",
       "\n",
       "       credit_balance  max_open_credit  \n",
       "count    8.377130e+05     8.377130e+05  \n",
       "mean     2.934773e+05     7.265559e+05  \n",
       "std      3.683635e+05     6.438295e+06  \n",
       "min      0.000000e+00     0.000000e+00  \n",
       "25%      1.130500e+05     2.686200e+05  \n",
       "50%      2.100450e+05     4.574020e+05  \n",
       "75%      3.659020e+05     7.633780e+05  \n",
       "max      3.287897e+07     1.539738e+09  "
      ]
     },
     "execution_count": 362,
     "metadata": {},
     "output_type": "execute_result"
    }
   ],
   "source": [
    "train_data.describe()"
   ]
  },
  {
   "cell_type": "code",
   "execution_count": 363,
   "metadata": {},
   "outputs": [
    {
     "data": {
      "text/plain": [
       "id                                   0\n",
       "y                                    0\n",
       "amount_current_loan                  0\n",
       "term                                 0\n",
       "credit_score                         0\n",
       "loan_purpose                         0\n",
       "yearly_income                    94099\n",
       "home_ownership                       0\n",
       "bankruptcies                         0\n",
       "years_current_job                    0\n",
       "monthly_debt                         0\n",
       "years_credit_history                 0\n",
       "months_since_last_delinquent    390634\n",
       "open_accounts                        0\n",
       "credit_problems                      0\n",
       "credit_balance                       0\n",
       "max_open_credit                      0\n",
       "dtype: int64"
      ]
     },
     "execution_count": 363,
     "metadata": {},
     "output_type": "execute_result"
    }
   ],
   "source": [
    "train_data.isnull().sum()"
   ]
  },
  {
   "cell_type": "code",
   "execution_count": 364,
   "metadata": {},
   "outputs": [
    {
     "name": "stdout",
     "output_type": "stream",
     "text": [
      "7\n",
      "[0, 12, 24, 36, 48, 60, 999]\n",
      "6\n",
      "['M12', 'M24', 'M36', 'M48', 'M60', 'More']\n"
     ]
    }
   ],
   "source": [
    "########################################################\n",
    "###### As some information can be received from deliquent data - try to leave it\n",
    "###### Trying to imput the data might be risky - might disrupt the data, we can tighten it\n",
    "BIN_FREQUENCY_MONTHS = 12\n",
    "LAST_NUM_OF_MONTHS = 72\n",
    "temp_bins = list(range(0, LAST_NUM_OF_MONTHS, BIN_FREQUENCY_MONTHS))\n",
    "temp_bins.append(999)\n",
    "print(len(temp_bins))\n",
    "print(temp_bins)\n",
    "\n",
    "temp_labels = ['M' + str(n) for n in range(BIN_FREQUENCY_MONTHS, LAST_NUM_OF_MONTHS, BIN_FREQUENCY_MONTHS)] + ['More']\n",
    "print(len(temp_labels))\n",
    "print(temp_labels)\n",
    "\n",
    "\n",
    "train_data['delinquent_cat'] = pd.cut(x=train_data['months_since_last_delinquent'], \n",
    "                     bins=temp_bins,\n",
    "                     labels=temp_labels)\n",
    "\n",
    "train_data[\"delinquent_cat\"] = train_data[\"delinquent_cat\"].cat.add_categories(\"Other\")\n",
    "train_data[\"delinquent_cat\"] = train_data[\"delinquent_cat\"].fillna(\"Other\")\n",
    "\n",
    "train_data = train_data.drop(['months_since_last_delinquent'], axis=1)"
   ]
  },
  {
   "cell_type": "code",
   "execution_count": 365,
   "metadata": {},
   "outputs": [
    {
     "data": {
      "text/plain": [
       "id                          0\n",
       "y                           0\n",
       "amount_current_loan         0\n",
       "term                        0\n",
       "credit_score                0\n",
       "loan_purpose                0\n",
       "yearly_income           94099\n",
       "home_ownership              0\n",
       "bankruptcies                0\n",
       "years_current_job           0\n",
       "monthly_debt                0\n",
       "years_credit_history        0\n",
       "open_accounts               0\n",
       "credit_problems             0\n",
       "credit_balance              0\n",
       "max_open_credit             0\n",
       "delinquent_cat              0\n",
       "dtype: int64"
      ]
     },
     "execution_count": 365,
     "metadata": {},
     "output_type": "execute_result"
    }
   ],
   "source": [
    "train_data.isnull().sum()"
   ]
  },
  {
   "cell_type": "code",
   "execution_count": 366,
   "metadata": {},
   "outputs": [
    {
     "name": "stdout",
     "output_type": "stream",
     "text": [
      "['long' 'short']\n",
      "['fair' 'good' 'unknown' 'very_good']\n",
      "['business_loan' 'buy_a_car' 'buy_house' 'debt_consolidation'\n",
      " 'educational_expenses' 'home_improvements' 'major_purchase'\n",
      " 'medical_bills' 'moving' 'other' 'small_business' 'take_a_trip'\n",
      " 'vacation' 'wedding']\n",
      "['mortgage' 'own' 'rent']\n",
      "['M12' 'M24' 'M36' 'M48' 'M60' 'More' 'Other']\n"
     ]
    }
   ],
   "source": [
    "cols = [\"term\", \"credit_score\", \"loan_purpose\", \"home_ownership\", \"delinquent_cat\"]\n",
    "le = preprocessing.LabelEncoder()\n",
    "for col in cols:\n",
    "    train_data[col] = le.fit_transform(train_data[col])\n",
    "    #test_data[col] = le.transform(test_data[col])\n",
    "    print(le.classes_)"
   ]
  },
  {
   "cell_type": "code",
   "execution_count": 367,
   "metadata": {},
   "outputs": [
    {
     "name": "stderr",
     "output_type": "stream",
     "text": [
      "C:\\Users\\Paulius\\AppData\\Local\\Temp\\ipykernel_13636\\1954850374.py:16: SettingWithCopyWarning: \n",
      "A value is trying to be set on a copy of a slice from a DataFrame.\n",
      "Try using .loc[row_indexer,col_indexer] = value instead\n",
      "\n",
      "See the caveats in the documentation: https://pandas.pydata.org/pandas-docs/stable/user_guide/indexing.html#returning-a-view-versus-a-copy\n",
      "  test_data_inc_null['yearly_income'] = y_pred\n"
     ]
    }
   ],
   "source": [
    "test_data_inc_null = train_data[train_data['yearly_income'].isnull()]\n",
    "test_data_inc_notnull = train_data[train_data['yearly_income'].notnull()]\n",
    "train_data.dropna(inplace=True)\n",
    "\n",
    "x_train = train_data.drop('yearly_income', axis=1)\n",
    "y_train = train_data['yearly_income']\n",
    "\n",
    "lr = LinearRegression()\n",
    "\n",
    "lr.fit(x_train, y_train)\n",
    "\n",
    "x_test = test_data_inc_null.drop('yearly_income', axis=1)\n",
    "\n",
    "y_pred = lr.predict(x_test).astype(int)\n",
    "\n",
    "test_data_inc_null['yearly_income'] = y_pred\n",
    "\n",
    "train_data = pd.concat([test_data_inc_null, test_data_inc_notnull])"
   ]
  },
  {
   "cell_type": "code",
   "execution_count": 368,
   "metadata": {},
   "outputs": [
    {
     "data": {
      "text/plain": [
       "id                      0\n",
       "y                       0\n",
       "amount_current_loan     0\n",
       "term                    0\n",
       "credit_score            0\n",
       "loan_purpose            0\n",
       "yearly_income           0\n",
       "home_ownership          0\n",
       "bankruptcies            0\n",
       "years_current_job       0\n",
       "monthly_debt            0\n",
       "years_credit_history    0\n",
       "open_accounts           0\n",
       "credit_problems         0\n",
       "credit_balance          0\n",
       "max_open_credit         0\n",
       "delinquent_cat          0\n",
       "dtype: int64"
      ]
     },
     "execution_count": 368,
     "metadata": {},
     "output_type": "execute_result"
    }
   ],
   "source": [
    "train_data.isnull().sum()"
   ]
  },
  {
   "cell_type": "code",
   "execution_count": 371,
   "metadata": {},
   "outputs": [
    {
     "name": "stdout",
     "output_type": "stream",
     "text": [
      "             id  y  amount_current_loan  term  credit_score  loan_purpose  \\\n",
      "36           37  0               656876     1             2             3   \n",
      "40           41  0               220902     1             2             3   \n",
      "45           46  0               176440     1             2             3   \n",
      "50           51  0               332442     0             2             7   \n",
      "53           54  0               108834     1             2             9   \n",
      "...         ... ..                  ...   ...           ...           ...   \n",
      "999994   999995  1               578732     0             1             3   \n",
      "999995   999996  1               322784     0             1             3   \n",
      "999997   999998  1               242110     1             1             3   \n",
      "999998   999999  1               437448     0             2             3   \n",
      "999999  1000000  1               482262     0             2             3   \n",
      "\n",
      "        yearly_income  home_ownership  bankruptcies  years_current_job  \\\n",
      "36          2069678.0               0           0.0                0.0   \n",
      "40          1619323.0               1           0.0                7.0   \n",
      "45          1048259.0               0           0.0                0.0   \n",
      "50           953798.0               2           1.0                7.0   \n",
      "53          1282467.0               2           0.0               10.0   \n",
      "...               ...             ...           ...                ...   \n",
      "999994      1423005.0               0           0.0               10.0   \n",
      "999995       743356.0               1           0.0                2.0   \n",
      "999997       522899.0               2           0.0                0.0   \n",
      "999998      1064950.0               0           0.0               10.0   \n",
      "999999      2895619.0               0           0.0               10.0   \n",
      "\n",
      "        monthly_debt  years_credit_history  open_accounts  credit_problems  \\\n",
      "36          24958.97                    15             15                0   \n",
      "40          27673.69                    13             13                0   \n",
      "45           8985.67                    23             17                0   \n",
      "50           1137.91                    18              5                1   \n",
      "53          13637.63                    27              8                0   \n",
      "...              ...                   ...            ...              ...   \n",
      "999994      30028.93                    14             11                0   \n",
      "999995       8224.72                    17              5                0   \n",
      "999997      11745.80                    10             14                0   \n",
      "999998      20218.66                    12             11                0   \n",
      "999999      41043.04                    28             11                0   \n",
      "\n",
      "        credit_balance  max_open_credit  delinquent_cat  \n",
      "36              150727         279862.0               3  \n",
      "40               78945         495308.0               1  \n",
      "45              128573         189112.0               0  \n",
      "50               65284         166408.0               5  \n",
      "53              180196         343860.0               2  \n",
      "...                ...              ...             ...  \n",
      "999994           69122         220638.0               4  \n",
      "999995           21470         253660.0               6  \n",
      "999997          187074         418198.0               1  \n",
      "999998          544065         740278.0               6  \n",
      "999999          891974        1263790.0               6  \n",
      "\n",
      "[837713 rows x 17 columns]\n"
     ]
    }
   ],
   "source": [
    "print(train_data)"
   ]
  },
  {
   "cell_type": "code",
   "execution_count": 373,
   "metadata": {},
   "outputs": [],
   "source": [
    "train_data.to_csv('C:/Users/Paulius/Documents/GitHub/DVDA_PROJEKTAS/project/1-data/train_data_new.csv', sep=',', encoding='utf-8', index=False)"
   ]
  }
 ],
 "metadata": {
  "kernelspec": {
   "display_name": "Python 3.11.0 64-bit",
   "language": "python",
   "name": "python3"
  },
  "language_info": {
   "codemirror_mode": {
    "name": "ipython",
    "version": 3
   },
   "file_extension": ".py",
   "mimetype": "text/x-python",
   "name": "python",
   "nbconvert_exporter": "python",
   "pygments_lexer": "ipython3",
   "version": "3.11.0"
  },
  "orig_nbformat": 4,
  "vscode": {
   "interpreter": {
    "hash": "1b6713aa3cb8cf543d50546083276061485f2d39612b9203bfea44a863a97a67"
   }
  }
 },
 "nbformat": 4,
 "nbformat_minor": 2
}
